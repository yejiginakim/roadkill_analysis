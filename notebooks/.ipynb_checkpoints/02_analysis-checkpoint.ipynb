{
 "cells": [
  {
   "cell_type": "markdown",
   "id": "5c9a7573",
   "metadata": {},
   "source": [
    "# Roadkill Data Analysis and Modeling"
   ]
  },
  {
   "cell_type": "markdown",
   "id": "7950b5e3",
   "metadata": {},
   "source": [
    "## Imports"
   ]
  },
  {
   "cell_type": "code",
   "execution_count": 11,
   "id": "58aa26a9",
   "metadata": {},
   "outputs": [],
   "source": [
    "import pandas as pd\n",
    "import seaborn as sns\n",
    "import numpy as np\n",
    "import os "
   ]
  },
  {
   "cell_type": "code",
   "execution_count": 12,
   "id": "965f55a2",
   "metadata": {},
   "outputs": [
    {
     "data": {
      "text/plain": [
       "Index(['grid_id', 'roadkill_count', 'national_highway_rk', 'white_rk',\n",
       "       'corridor_count', 'min_dist_to_corridor', 'wild_boar_grid',\n",
       "       'roe_deer_grid', 'is_hongcheon', 'wild_boar_count', 'roe_deer_count',\n",
       "       'white_road_grade', 'national_road_count', 'highway_road_count'],\n",
       "      dtype='object')"
      ]
     },
     "execution_count": 12,
     "metadata": {},
     "output_type": "execute_result"
    }
   ],
   "source": [
    "data_path = '/Users/yeji_kim/Desktop/project/roadkill_analysis/data/processed'\n",
    "\n",
    "data = pd.read_csv(os.path.join(data_path, 'grid_features.csv')).drop(columns = 'geometry')\n",
    "data.head()\n",
    "data.columns"
   ]
  },
  {
   "cell_type": "markdown",
   "id": "a5554988",
   "metadata": {},
   "source": [
    "## Data Columns\n",
    "`grid_id` : Unique identifier for each grid cell in Gangwon Province.\n",
    "(강원도 내 각 격자 셀의 고유 ID)\n",
    "\n",
    "`national_highway_rk` : Roadkill count occurring on **national roads, provincial roads, and highways**.  \n",
    "Highway cases are very rare, so they are aggregated together.  \n",
    "(국도, 지방도, 고속도로에서 발생한 로드킬 수. 고속도로 건수는 매우 적어 함께 합산)\n",
    "\n",
    "`white_rk` : Roadkill count occurring on **ordinary roads (non-national, non-provincial, non-highway)**.  \n",
    "(일반도로에서 발생한 로드킬 수 — 국도·지방도·고속도로가 아닌 도로)\n",
    "\n",
    "`corridor_count` : Number of ecological corridors within the grid.  \n",
    "(각 격자 셀 내 생태통로 개수)\n",
    "\n",
    "`min_dist_to_corridor` : Minimum distance (meters) from any roadkill incident in the grid  \n",
    "to the nearest ecological corridor.  \n",
    "(격자 내 로드킬 지점에서 가장 가까운 생태통로까지의 최소 거리, 미터 단위)\n",
    "\n",
    "`wild_boar_grid` : Area-weighted average wild boar damage ratio in each grid cell.  \n",
    "Polygons are intersected with the grid, reprojected to a metric CRS,  \n",
    "and the ratio is weighted by the overlap area.  \n",
    "(격자별 면적 가중 평균 멧돼지 피해율 — 폴리곤과 격자 교차 면적을 가중치로 사용)\n",
    "\n",
    "`roe_deer_grid` : Area-weighted average roe deer damage ratio in each grid cell.  \n",
    "Polygons are intersected with the grid, reprojected to a metric CRS,  \n",
    "and the ratio is weighted by the overlap area.  \n",
    "                (격자별 면적 가중 평균 고라니 피해율 — 폴리곤과 격자 교차 면적을 가중치로 사용)\n",
    "\n",
    "`is_hongcheon` : Indicator (0/1) whether the grid lies within Hongcheon County.  \n",
    "                (격자가 홍천군에 포함되는지 여부, 0/1)\n",
    "\n",
    "`wild_boar_count` : Estimated distribution of wild boar incidents in each grid cell.  \n",
    "Values are scaled from the area-weighted ratios (`wild_boar_grid`) using 16,700 total incidents  \n",
    "reported in external studies as a reference.  \n",
    "(격자별 멧돼지 출몰 추정 분포 — 면적 가중 비율(`wild_boar_grid`)을 기반으로,  \n",
    "외부 연구에서 보고된 총 16,700건을 참고하여 환산한 값)\n",
    "\n",
    "`roe_deer_count` : Estimated distribution of roe deer incidents in each grid cell.  \n",
    "Values are scaled from the area-weighted ratios (`roe_deer_grid`) using external reports on  \n",
    "total incidents as a reference.  \n",
    "(격자별 고라니 출몰 추정 분포 — 면적 가중 비율(`roe_deer_grid`)을 기반으로,  외부 보고 자료의 총 발생 건수를 참고하여 환산한 값)\n",
    "\n",
    "`white_road_grade` : Categorical index (0–4) describing the level of road presence and surrounding land use within each grid cell.  \n",
    "Defined as follows:  \n",
    "\n",
    "- **0** : No roads (pure forest)  \n",
    "- **1** : Forest area with 1–2 roads  \n",
    "- **2** : Small village / rural settlement  \n",
    "- **3** : Town  \n",
    "- **4** : City / urban area  \n",
    "\n",
    "(격자 내 도로 존재 및 입지 환경을 나타내는 범주형 지표, 0–4 등급으로 분류)\n",
    "\n",
    "\n",
    "\n",
    "`national_road_count` : Number of national and provincial roads contained in the grid.  \n",
    "(격자 내 포함된 국도·지방도 개수)\n",
    "\n",
    "`highway_road_count` : Number of highways contained in the grid.  \n",
    "(격자 내 포함된 고속도로 개수)\n",
    "\n"
   ]
  },
  {
   "cell_type": "code",
   "execution_count": 13,
   "id": "fe6cbd6e",
   "metadata": {},
   "outputs": [
    {
     "data": {
      "text/plain": [
       "0      0.401211\n",
       "1      0.401211\n",
       "2      0.401211\n",
       "3      0.401211\n",
       "4      0.401211\n",
       "         ...   \n",
       "779    0.000000\n",
       "780    0.000000\n",
       "781    0.000000\n",
       "782    0.000000\n",
       "783    0.000000\n",
       "Name: wild_boar_grid, Length: 784, dtype: float64"
      ]
     },
     "execution_count": 13,
     "metadata": {},
     "output_type": "execute_result"
    }
   ],
   "source": [
    "data['wild_boar_grid']"
   ]
  },
  {
   "cell_type": "code",
   "execution_count": null,
   "id": "fa0693d3",
   "metadata": {},
   "outputs": [],
   "source": []
  }
 ],
 "metadata": {
  "kernelspec": {
   "display_name": "Python 3 (ipykernel)",
   "language": "python",
   "name": "python3"
  },
  "language_info": {
   "codemirror_mode": {
    "name": "ipython",
    "version": 3
   },
   "file_extension": ".py",
   "mimetype": "text/x-python",
   "name": "python",
   "nbconvert_exporter": "python",
   "pygments_lexer": "ipython3",
   "version": "3.11.5"
  }
 },
 "nbformat": 4,
 "nbformat_minor": 5
}

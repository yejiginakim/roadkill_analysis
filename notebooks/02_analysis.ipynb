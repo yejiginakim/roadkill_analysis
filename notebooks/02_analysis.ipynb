{
 "cells": [
  {
   "cell_type": "raw",
   "id": "1ec6477a",
   "metadata": {},
   "source": [
    "# Roadkill Data Analysis and Modeling"
   ]
  },
  {
   "cell_type": "markdown",
   "id": "7950b5e3",
   "metadata": {},
   "source": [
    "## Imports"
   ]
  },
  {
   "cell_type": "code",
   "execution_count": 308,
   "id": "58aa26a9",
   "metadata": {},
   "outputs": [],
   "source": [
    "import pandas as pd\n",
    "import seaborn as sns\n",
    "import numpy as np\n",
    "import os\n",
    "import matplotlib.pyplot as plt"
   ]
  },
  {
   "cell_type": "markdown",
   "id": "de708c31",
   "metadata": {},
   "source": [
    "## Load Data"
   ]
  },
  {
   "cell_type": "code",
   "execution_count": 309,
   "id": "965f55a2",
   "metadata": {},
   "outputs": [
    {
     "data": {
      "text/html": [
       "<div>\n",
       "<style scoped>\n",
       "    .dataframe tbody tr th:only-of-type {\n",
       "        vertical-align: middle;\n",
       "    }\n",
       "\n",
       "    .dataframe tbody tr th {\n",
       "        vertical-align: top;\n",
       "    }\n",
       "\n",
       "    .dataframe thead th {\n",
       "        text-align: right;\n",
       "    }\n",
       "</style>\n",
       "<table border=\"1\" class=\"dataframe\">\n",
       "  <thead>\n",
       "    <tr style=\"text-align: right;\">\n",
       "      <th></th>\n",
       "      <th>grid_id</th>\n",
       "      <th>roadkill_count</th>\n",
       "      <th>national_highway_rk</th>\n",
       "      <th>white_rk</th>\n",
       "      <th>corridor_count</th>\n",
       "      <th>min_dist_to_corridor</th>\n",
       "      <th>is_hongcheon</th>\n",
       "      <th>wild_boar_count</th>\n",
       "      <th>roe_deer_count</th>\n",
       "      <th>white_road_grade</th>\n",
       "      <th>national_road_count</th>\n",
       "      <th>highway_road_count</th>\n",
       "    </tr>\n",
       "  </thead>\n",
       "  <tbody>\n",
       "    <tr>\n",
       "      <th>0</th>\n",
       "      <td>grid_25</td>\n",
       "      <td>0</td>\n",
       "      <td>0</td>\n",
       "      <td>0</td>\n",
       "      <td>0</td>\n",
       "      <td>0.0</td>\n",
       "      <td>0</td>\n",
       "      <td>1.540276</td>\n",
       "      <td>0.0</td>\n",
       "      <td>1</td>\n",
       "      <td>1</td>\n",
       "      <td>0</td>\n",
       "    </tr>\n",
       "    <tr>\n",
       "      <th>1</th>\n",
       "      <td>grid_26</td>\n",
       "      <td>0</td>\n",
       "      <td>0</td>\n",
       "      <td>0</td>\n",
       "      <td>0</td>\n",
       "      <td>0.0</td>\n",
       "      <td>0</td>\n",
       "      <td>1.540276</td>\n",
       "      <td>0.0</td>\n",
       "      <td>0</td>\n",
       "      <td>0</td>\n",
       "      <td>0</td>\n",
       "    </tr>\n",
       "    <tr>\n",
       "      <th>2</th>\n",
       "      <td>grid_55</td>\n",
       "      <td>0</td>\n",
       "      <td>0</td>\n",
       "      <td>0</td>\n",
       "      <td>0</td>\n",
       "      <td>0.0</td>\n",
       "      <td>0</td>\n",
       "      <td>1.540276</td>\n",
       "      <td>0.0</td>\n",
       "      <td>1</td>\n",
       "      <td>0</td>\n",
       "      <td>0</td>\n",
       "    </tr>\n",
       "    <tr>\n",
       "      <th>3</th>\n",
       "      <td>grid_56</td>\n",
       "      <td>0</td>\n",
       "      <td>0</td>\n",
       "      <td>0</td>\n",
       "      <td>0</td>\n",
       "      <td>0.0</td>\n",
       "      <td>0</td>\n",
       "      <td>1.540276</td>\n",
       "      <td>0.0</td>\n",
       "      <td>1</td>\n",
       "      <td>0</td>\n",
       "      <td>0</td>\n",
       "    </tr>\n",
       "    <tr>\n",
       "      <th>4</th>\n",
       "      <td>grid_57</td>\n",
       "      <td>0</td>\n",
       "      <td>0</td>\n",
       "      <td>0</td>\n",
       "      <td>0</td>\n",
       "      <td>0.0</td>\n",
       "      <td>0</td>\n",
       "      <td>1.540276</td>\n",
       "      <td>0.0</td>\n",
       "      <td>2</td>\n",
       "      <td>3</td>\n",
       "      <td>0</td>\n",
       "    </tr>\n",
       "  </tbody>\n",
       "</table>\n",
       "</div>"
      ],
      "text/plain": [
       "   grid_id  roadkill_count  national_highway_rk  white_rk  corridor_count  \\\n",
       "0  grid_25               0                    0         0               0   \n",
       "1  grid_26               0                    0         0               0   \n",
       "2  grid_55               0                    0         0               0   \n",
       "3  grid_56               0                    0         0               0   \n",
       "4  grid_57               0                    0         0               0   \n",
       "\n",
       "   min_dist_to_corridor  is_hongcheon  wild_boar_count  roe_deer_count  \\\n",
       "0                   0.0             0         1.540276             0.0   \n",
       "1                   0.0             0         1.540276             0.0   \n",
       "2                   0.0             0         1.540276             0.0   \n",
       "3                   0.0             0         1.540276             0.0   \n",
       "4                   0.0             0         1.540276             0.0   \n",
       "\n",
       "   white_road_grade  national_road_count  highway_road_count  \n",
       "0                 1                    1                   0  \n",
       "1                 0                    0                   0  \n",
       "2                 1                    0                   0  \n",
       "3                 1                    0                   0  \n",
       "4                 2                    3                   0  "
      ]
     },
     "execution_count": 309,
     "metadata": {},
     "output_type": "execute_result"
    }
   ],
   "source": [
    "data_path = '/Users/yeji_kim/Desktop/project/roadkill_analysis/data/processed'\n",
    "\n",
    "data = pd.read_csv(os.path.join(data_path, 'grid_features.csv')).drop(columns = ['geometry','wild_boar_grid', 'roe_deer_grid'])\n",
    "data.head()"
   ]
  },
  {
   "cell_type": "markdown",
   "id": "a5554988",
   "metadata": {},
   "source": [
    "## Data Columns\n",
    "`grid_id` : Unique identifier for each grid cell in Gangwon Province.\n",
    "(강원도 내 각 격자 셀의 고유 ID)\n",
    "\n",
    "`national_highway_rk` : Roadkill count occurring on **national roads, provincial roads, and highways**.  \n",
    "Highway cases are very rare, so they are aggregated together.  \n",
    "(국도, 지방도, 고속도로에서 발생한 로드킬 수. 고속도로 건수는 매우 적어 함께 합산)\n",
    "\n",
    "`white_rk` : Roadkill count occurring on **ordinary roads (non-national, non-provincial, non-highway)**.  \n",
    "(일반도로에서 발생한 로드킬 수 — 국도·지방도·고속도로가 아닌 도로)\n",
    "\n",
    "`corridor_count` : Number of ecological corridors within the grid.  \n",
    "(각 격자 셀 내 생태통로 개수)\n",
    "\n",
    "`min_dist_to_corridor` : Minimum distance (meters) from any roadkill incident in the grid  \n",
    "to the nearest ecological corridor.  \n",
    "(격자 내 로드킬 지점에서 가장 가까운 생태통로까지의 최소 거리, 미터 단위)\n",
    "\n",
    "`wild_boar_grid` : Area-weighted average wild boar damage ratio per grid cell.  \n",
    "                 (격자별 면적 가중 평균 멧돼지 피해율 — 폴리곤과 격자 교차 면적을 가중치로 사용)\n",
    "\n",
    "`roe_deer_grid` : Area-weighted average roe deer damage ratio per grid cell.  \n",
    "                (격자별 면적 가중 평균 고라니 피해율 — 폴리곤과 격자 교차 면적을 가중치로 사용)\n",
    "                \n",
    "\n",
    "`is_hongcheon` : Indicator (0/1) whether the grid lies within Hongcheon County.  \n",
    "                (격자가 홍천군에 포함되는지 여부, 0/1)\n",
    "\n",
    "`wild_boar_count` : Estimated distribution of wild boar incidents in each grid cell.  \n",
    "Values are scaled from the area-weighted ratios (`wild_boar_grid`) using 16,700 total incidents  \n",
    "reported in external studies as a reference.  \n",
    "(격자별 멧돼지 출몰 추정 분포 — 면적 가중 비율(`wild_boar_grid`)을 기반으로,  \n",
    "외부 연구에서 보고된 총 16,700건을 참고하여 환산한 값)\n",
    "\n",
    "`roe_deer_count` : Estimated distribution of roe deer incidents in each grid cell.  \n",
    "Values are scaled from the area-weighted ratios (`roe_deer_grid`) using external reports on  \n",
    "total incidents as a reference.  \n",
    "(격자별 고라니 출몰 추정 분포 — 면적 가중 비율(`roe_deer_grid`)을 기반으로,  외부 보고 자료의 총 발생 건수를 참고하여 환산한 값)\n",
    "\n",
    "`white_road_grade` : Categorical index (0–4) describing the level of road presence and surrounding land use within each grid cell.  \n",
    "Defined as follows:  \n",
    "\n",
    "- **0** : No roads (pure forest)  \n",
    "- **1** : Forest area with 1–2 roads  \n",
    "- **2** : Small village / rural settlement  \n",
    "- **3** : Town  \n",
    "- **4** : City / urban area  \n",
    "\n",
    "(격자 내 도로 존재 및 입지 환경을 나타내는 범주형 지표, 0–4 등급으로 분류)\n",
    "\n",
    "\n",
    "\n",
    "`national_road_count` : Number of national and provincial roads contained in the grid.  \n",
    "(격자 내 포함된 국도·지방도 개수)\n",
    "\n",
    "`highway_road_count` : Number of highways contained in the grid.  \n",
    "(격자 내 포함된 고속도로 개수)\n",
    "\n",
    "\n",
    "Note: wild_boar_grid and roe_deer_grid were generated in preprocessing but are excluded from analysis/modeling, since their scaled versions (wild_boar_count, roe_deer_count) are used instead.\n"
   ]
  },
  {
   "cell_type": "markdown",
   "id": "72a2ca65",
   "metadata": {},
   "source": [
    "## 1. Exploratory Data Analysis (EDA)\n",
    "First, check the structure of the dataset and look at the distribution of key variables. "
   ]
  },
  {
   "cell_type": "code",
   "execution_count": 310,
   "id": "fa0693d3",
   "metadata": {},
   "outputs": [
    {
     "name": "stdout",
     "output_type": "stream",
     "text": [
      "Shape: (784, 12)\n",
      "\n",
      "Column types and non-null counts:\n",
      "<class 'pandas.core.frame.DataFrame'>\n",
      "RangeIndex: 784 entries, 0 to 783\n",
      "Data columns (total 12 columns):\n",
      " #   Column                Non-Null Count  Dtype  \n",
      "---  ------                --------------  -----  \n",
      " 0   grid_id               784 non-null    object \n",
      " 1   roadkill_count        784 non-null    int64  \n",
      " 2   national_highway_rk   784 non-null    int64  \n",
      " 3   white_rk              784 non-null    int64  \n",
      " 4   corridor_count        784 non-null    int64  \n",
      " 5   min_dist_to_corridor  784 non-null    float64\n",
      " 6   is_hongcheon          784 non-null    int64  \n",
      " 7   wild_boar_count       784 non-null    float64\n",
      " 8   roe_deer_count        784 non-null    float64\n",
      " 9   white_road_grade      784 non-null    int64  \n",
      " 10  national_road_count   784 non-null    int64  \n",
      " 11  highway_road_count    784 non-null    int64  \n",
      "dtypes: float64(3), int64(8), object(1)\n",
      "memory usage: 73.6+ KB\n",
      "None\n",
      "\n",
      "Missing values per column:\n",
      "grid_id                 0\n",
      "roadkill_count          0\n",
      "national_highway_rk     0\n",
      "white_rk                0\n",
      "corridor_count          0\n",
      "min_dist_to_corridor    0\n",
      "is_hongcheon            0\n",
      "wild_boar_count         0\n",
      "roe_deer_count          0\n",
      "white_road_grade        0\n",
      "national_road_count     0\n",
      "highway_road_count      0\n",
      "dtype: int64\n"
     ]
    },
    {
     "data": {
      "text/html": [
       "<div>\n",
       "<style scoped>\n",
       "    .dataframe tbody tr th:only-of-type {\n",
       "        vertical-align: middle;\n",
       "    }\n",
       "\n",
       "    .dataframe tbody tr th {\n",
       "        vertical-align: top;\n",
       "    }\n",
       "\n",
       "    .dataframe thead th {\n",
       "        text-align: right;\n",
       "    }\n",
       "</style>\n",
       "<table border=\"1\" class=\"dataframe\">\n",
       "  <thead>\n",
       "    <tr style=\"text-align: right;\">\n",
       "      <th></th>\n",
       "      <th>roadkill_count</th>\n",
       "      <th>national_highway_rk</th>\n",
       "      <th>white_rk</th>\n",
       "      <th>corridor_count</th>\n",
       "      <th>min_dist_to_corridor</th>\n",
       "      <th>is_hongcheon</th>\n",
       "      <th>wild_boar_count</th>\n",
       "      <th>roe_deer_count</th>\n",
       "      <th>white_road_grade</th>\n",
       "      <th>national_road_count</th>\n",
       "      <th>highway_road_count</th>\n",
       "    </tr>\n",
       "  </thead>\n",
       "  <tbody>\n",
       "    <tr>\n",
       "      <th>count</th>\n",
       "      <td>784.000000</td>\n",
       "      <td>784.000000</td>\n",
       "      <td>784.000000</td>\n",
       "      <td>784.000000</td>\n",
       "      <td>784.000000</td>\n",
       "      <td>784.000000</td>\n",
       "      <td>784.000000</td>\n",
       "      <td>784.000000</td>\n",
       "      <td>784.000000</td>\n",
       "      <td>784.000000</td>\n",
       "      <td>784.000000</td>\n",
       "    </tr>\n",
       "    <tr>\n",
       "      <th>mean</th>\n",
       "      <td>0.543367</td>\n",
       "      <td>0.239796</td>\n",
       "      <td>0.303571</td>\n",
       "      <td>0.095663</td>\n",
       "      <td>1918.035651</td>\n",
       "      <td>0.139031</td>\n",
       "      <td>21.301020</td>\n",
       "      <td>148.516582</td>\n",
       "      <td>1.654337</td>\n",
       "      <td>0.994898</td>\n",
       "      <td>0.151786</td>\n",
       "    </tr>\n",
       "    <tr>\n",
       "      <th>std</th>\n",
       "      <td>1.526490</td>\n",
       "      <td>0.929795</td>\n",
       "      <td>1.094366</td>\n",
       "      <td>0.410316</td>\n",
       "      <td>4644.061070</td>\n",
       "      <td>0.346199</td>\n",
       "      <td>34.661158</td>\n",
       "      <td>159.870982</td>\n",
       "      <td>0.861646</td>\n",
       "      <td>0.853196</td>\n",
       "      <td>0.386452</td>\n",
       "    </tr>\n",
       "    <tr>\n",
       "      <th>min</th>\n",
       "      <td>0.000000</td>\n",
       "      <td>0.000000</td>\n",
       "      <td>0.000000</td>\n",
       "      <td>0.000000</td>\n",
       "      <td>0.000000</td>\n",
       "      <td>0.000000</td>\n",
       "      <td>0.000000</td>\n",
       "      <td>0.000000</td>\n",
       "      <td>0.000000</td>\n",
       "      <td>0.000000</td>\n",
       "      <td>0.000000</td>\n",
       "    </tr>\n",
       "    <tr>\n",
       "      <th>25%</th>\n",
       "      <td>0.000000</td>\n",
       "      <td>0.000000</td>\n",
       "      <td>0.000000</td>\n",
       "      <td>0.000000</td>\n",
       "      <td>0.000000</td>\n",
       "      <td>0.000000</td>\n",
       "      <td>2.154339</td>\n",
       "      <td>19.969979</td>\n",
       "      <td>1.000000</td>\n",
       "      <td>0.000000</td>\n",
       "      <td>0.000000</td>\n",
       "    </tr>\n",
       "    <tr>\n",
       "      <th>50%</th>\n",
       "      <td>0.000000</td>\n",
       "      <td>0.000000</td>\n",
       "      <td>0.000000</td>\n",
       "      <td>0.000000</td>\n",
       "      <td>0.000000</td>\n",
       "      <td>0.000000</td>\n",
       "      <td>7.658757</td>\n",
       "      <td>114.184570</td>\n",
       "      <td>2.000000</td>\n",
       "      <td>1.000000</td>\n",
       "      <td>0.000000</td>\n",
       "    </tr>\n",
       "    <tr>\n",
       "      <th>75%</th>\n",
       "      <td>0.000000</td>\n",
       "      <td>0.000000</td>\n",
       "      <td>0.000000</td>\n",
       "      <td>0.000000</td>\n",
       "      <td>0.000000</td>\n",
       "      <td>0.000000</td>\n",
       "      <td>27.966643</td>\n",
       "      <td>238.765179</td>\n",
       "      <td>2.000000</td>\n",
       "      <td>2.000000</td>\n",
       "      <td>0.000000</td>\n",
       "    </tr>\n",
       "    <tr>\n",
       "      <th>max</th>\n",
       "      <td>14.000000</td>\n",
       "      <td>13.000000</td>\n",
       "      <td>13.000000</td>\n",
       "      <td>5.000000</td>\n",
       "      <td>30899.688870</td>\n",
       "      <td>1.000000</td>\n",
       "      <td>161.590032</td>\n",
       "      <td>595.923186</td>\n",
       "      <td>4.000000</td>\n",
       "      <td>4.000000</td>\n",
       "      <td>3.000000</td>\n",
       "    </tr>\n",
       "  </tbody>\n",
       "</table>\n",
       "</div>"
      ],
      "text/plain": [
       "       roadkill_count  national_highway_rk    white_rk  corridor_count  \\\n",
       "count      784.000000           784.000000  784.000000      784.000000   \n",
       "mean         0.543367             0.239796    0.303571        0.095663   \n",
       "std          1.526490             0.929795    1.094366        0.410316   \n",
       "min          0.000000             0.000000    0.000000        0.000000   \n",
       "25%          0.000000             0.000000    0.000000        0.000000   \n",
       "50%          0.000000             0.000000    0.000000        0.000000   \n",
       "75%          0.000000             0.000000    0.000000        0.000000   \n",
       "max         14.000000            13.000000   13.000000        5.000000   \n",
       "\n",
       "       min_dist_to_corridor  is_hongcheon  wild_boar_count  roe_deer_count  \\\n",
       "count            784.000000    784.000000       784.000000      784.000000   \n",
       "mean            1918.035651      0.139031        21.301020      148.516582   \n",
       "std             4644.061070      0.346199        34.661158      159.870982   \n",
       "min                0.000000      0.000000         0.000000        0.000000   \n",
       "25%                0.000000      0.000000         2.154339       19.969979   \n",
       "50%                0.000000      0.000000         7.658757      114.184570   \n",
       "75%                0.000000      0.000000        27.966643      238.765179   \n",
       "max            30899.688870      1.000000       161.590032      595.923186   \n",
       "\n",
       "       white_road_grade  national_road_count  highway_road_count  \n",
       "count        784.000000           784.000000          784.000000  \n",
       "mean           1.654337             0.994898            0.151786  \n",
       "std            0.861646             0.853196            0.386452  \n",
       "min            0.000000             0.000000            0.000000  \n",
       "25%            1.000000             0.000000            0.000000  \n",
       "50%            2.000000             1.000000            0.000000  \n",
       "75%            2.000000             2.000000            0.000000  \n",
       "max            4.000000             4.000000            3.000000  "
      ]
     },
     "execution_count": 310,
     "metadata": {},
     "output_type": "execute_result"
    }
   ],
   "source": [
    "# Check dataset structure\n",
    "print('Shape:', data.shape)   # (rows, columns)\n",
    "print()\n",
    "print('Column types and non-null counts:')\n",
    "print(data.info())\n",
    "print()\n",
    "print('Missing values per column:')\n",
    "print(data.isna().sum())\n",
    "\n",
    "# Basic statistics for numeric columns\n",
    "data.describe()\n"
   ]
  },
  {
   "cell_type": "markdown",
   "id": "55ced244",
   "metadata": {},
   "source": [
    "We can see that there is no missing values. "
   ]
  },
  {
   "cell_type": "markdown",
   "id": "d148d5d1",
   "metadata": {},
   "source": [
    "### Roadkill Count Distribution\n",
    "\n",
    "The raw target variable `roadkill_count` is heavily zero-inflated,  \n",
    "with most grid cells having no incidents.\n"
   ]
  },
  {
   "cell_type": "code",
   "execution_count": 311,
   "id": "7de54b87",
   "metadata": {},
   "outputs": [
    {
     "data": {
      "image/png": "[encoded data removed]",
      "text/plain": [
       "<Figure size 640x480 with 1 Axes>"
      ]
     },
     "metadata": {},
     "output_type": "display_data"
    }
   ],
   "source": [
    "ax = sns.countplot(data= data, x = 'roadkill_count',edgecolor = 'black')\n",
    "\n",
    "for con in ax.containers:\n",
    "    ax.bar_label(con)\n",
    "\n",
    "plt.grid()\n",
    "plt.title('total road kill count')\n",
    "plt.xlabel('roadkill_count')\n",
    "plt.ylabel('count of grids')\n",
    "plt.show()"
   ]
  },
  {
   "cell_type": "markdown",
   "id": "e76a964f",
   "metadata": {},
   "source": [
    "### Categorization of Roadkill Count\n",
    "\n",
    "To handle the skewed distribution, we create a categorical target `roadkill_level`:\n",
    "\n",
    "- 0 = no incidents (`roadkill_count = 0`)  \n",
    "- 1 = low incidents (`roadkill_count = 1–3`)  \n",
    "- 2 = high incidents (`roadkill_count ≥ 4`)\n"
   ]
  },
  {
   "cell_type": "code",
   "execution_count": 312,
   "id": "a589f4b2",
   "metadata": {},
   "outputs": [
    {
     "name": "stdout",
     "output_type": "stream",
     "text": [
      "roadkill_level\n",
      "0    617\n",
      "1    132\n",
      "2     35\n",
      "Name: count, dtype: int64\n"
     ]
    }
   ],
   "source": [
    "def categorize_rk(x):\n",
    "    if x == 0:\n",
    "        return 0\n",
    "    elif 1 <= x <= 3:\n",
    "        return 1\n",
    "    else:\n",
    "        return 2\n",
    "\n",
    "data['roadkill_level'] = data['roadkill_count'].apply(categorize_rk)\n",
    "\n",
    "print(data['roadkill_level'].value_counts().sort_index())\n"
   ]
  },
  {
   "cell_type": "code",
   "execution_count": 313,
   "id": "dcccf101",
   "metadata": {},
   "outputs": [
    {
     "data": {
      "image/png": "[encoded data removed]",
      "text/plain": [
       "<Figure size 640x480 with 1 Axes>"
      ]
     },
     "metadata": {},
     "output_type": "display_data"
    }
   ],
   "source": [
    "# Visualize the distribution of the new categorical target\n",
    "ax = sns.countplot(data=data, x='roadkill_level', edgecolor='black')\n",
    "\n",
    "for con in ax.containers:\n",
    "    ax.bar_label(con)\n",
    "\n",
    "plt.grid(alpha=0.3)\n",
    "plt.title('Roadkill Level Distribution (0 = no incidents, 1 = low, 2 = high)')\n",
    "plt.xlabel('roadkill_level')\n",
    "plt.ylabel('count of grids')\n",
    "plt.show()\n"
   ]
  },
  {
   "cell_type": "markdown",
   "id": "9313f682",
   "metadata": {},
   "source": [
    "After categorization, the distribution is less skewed:  \n",
    "- 0 (no incidents): 617 grids  \n",
    "- 1 (low, 1–3 incidents): 132 grids  \n",
    "- 2 (high, ≥4 incidents): 35 grids  \n",
    "\n",
    "This transformation reduces the zero-inflation problem and makes the target more suitable\n",
    "for classification models.\n"
   ]
  },
  {
   "cell_type": "markdown",
   "id": "80a891ea",
   "metadata": {},
   "source": [
    "### Distribution of Categorical Variables\n"
   ]
  },
  {
   "cell_type": "markdown",
   "id": "264666e2",
   "metadata": {},
   "source": [
    "#### Distribution of  `is_hongcheon`\n",
    "We check how many grids belong to Hongcheon vs. the rest of Gangwon."
   ]
  },
  {
   "cell_type": "code",
   "execution_count": 314,
   "id": "1f7dd205",
   "metadata": {},
   "outputs": [
    {
     "data": {
      "image/png": "[encoded data removed]",
      "text/plain": [
       "<Figure size 640x480 with 1 Axes>"
      ]
     },
     "metadata": {},
     "output_type": "display_data"
    }
   ],
   "source": [
    "# is_hongcheon\n",
    "ax = sns.countplot(data=data, x='is_hongcheon', edgecolor='black')\n",
    "\n",
    "for con in ax.containers:\n",
    "    ax.bar_label(con)\n",
    "\n",
    "ax.set_xticklabels(['No Hongcheon', 'Hongcheon'])\n",
    "plt.title('Distribution of is_hongcheon')\n",
    "plt.grid(alpha=0.3)\n",
    "plt.show()\n",
    "\n"
   ]
  },
  {
   "cell_type": "markdown",
   "id": "cd7bc4bd",
   "metadata": {},
   "source": [
    "Most grids are outside Hongcheon (train), while a smaller portion is in Hongcheon (test).\n"
   ]
  },
  {
   "cell_type": "markdown",
   "id": "195dd03e",
   "metadata": {},
   "source": [
    "#### Distribution of White Road Grade\n",
    "We examine `white_road_grade`, which classifies grids from **0 (pure forest)** to **4 (urban area)**."
   ]
  },
  {
   "cell_type": "code",
   "execution_count": 315,
   "id": "e892776c",
   "metadata": {},
   "outputs": [
    {
     "data": {
      "image/png": "[encoded data removed]",
      "text/plain": [
       "<Figure size 640x480 with 1 Axes>"
      ]
     },
     "metadata": {},
     "output_type": "display_data"
    }
   ],
   "source": [
    "# white_road_grade\n",
    "ax = sns.countplot(data=data, x='white_road_grade', edgecolor='black')\n",
    "for con in ax.containers:\n",
    "    ax.bar_label(con)\n",
    "plt.title('Distribution of White Road Grade')\n",
    "plt.grid(alpha=0.3)\n",
    "plt.show()"
   ]
  },
  {
   "cell_type": "markdown",
   "id": "28abdb2a",
   "metadata": {},
   "source": [
    "Most grids are **grade 2 (small villages / rural)**,  \n",
    "followed by **grade 1 (forest + few roads)**.  \n",
    "Very few are **urban (3–4)** or **pure forest (0)**.\n"
   ]
  },
  {
   "cell_type": "markdown",
   "id": "2d9c2d56",
   "metadata": {},
   "source": [
    "### Distribution of Numerical Variables"
   ]
  },
  {
   "cell_type": "markdown",
   "id": "9e9753fa",
   "metadata": {},
   "source": [
    "#### Corridor Count"
   ]
  },
  {
   "cell_type": "code",
   "execution_count": 316,
   "id": "443e0749",
   "metadata": {},
   "outputs": [
    {
     "data": {
      "image/png": "[encoded data removed]",
      "text/plain": [
       "<Figure size 640x480 with 1 Axes>"
      ]
     },
     "metadata": {},
     "output_type": "display_data"
    }
   ],
   "source": [
    "# corridor_count\n",
    "ax = sns.countplot(data=data, x='corridor_count', edgecolor='black')\n",
    "\n",
    "for con in ax.containers:\n",
    "    ax.bar_label(con)\n",
    "    \n",
    "plt.title('Distribution of Corridor Count')\n",
    "plt.grid(alpha=0.3)\n",
    "plt.show()\n",
    "\n"
   ]
  },
  {
   "cell_type": "markdown",
   "id": "1eec8811",
   "metadata": {},
   "source": [
    "Most grids have no ecological corridors.  \n",
    "A smaller number contain 1–3 corridors, and very few exceed that."
   ]
  },
  {
   "cell_type": "markdown",
   "id": "6a108838",
   "metadata": {},
   "source": [
    "#### Minimum Distance to Corridor\n",
    "\n",
    "We visualize `min_dist_to_corridor` only for grids with roadkill (`roadkill_count > 0`),  \n",
    "since the distance is not meaningful when there are no incidents.  \n",
    "\n"
   ]
  },
  {
   "cell_type": "code",
   "execution_count": 317,
   "id": "bf4ebf0c",
   "metadata": {},
   "outputs": [
    {
     "data": {
      "image/png": "[encoded data removed]",
      "text/plain": [
       "<Figure size 640x480 with 1 Axes>"
      ]
     },
     "metadata": {},
     "output_type": "display_data"
    }
   ],
   "source": [
    "# Boxplot (exclude grids with roadkill_count = 0)\n",
    "sns.boxplot(data=data[data['min_dist_to_corridor'] != 0], x='min_dist_to_corridor')\n",
    "plt.title('Boxplot of Minimum Distance to Corridor')\n",
    "plt.xlabel('min_dist_to_corridor (meters)')\n",
    "plt.grid(alpha=0.3)\n",
    "plt.show()\n"
   ]
  },
  {
   "cell_type": "markdown",
   "id": "2d694a09",
   "metadata": {},
   "source": [
    "The boxplot shows a strong right skew:  \n",
    "- Most roadkill incidents occur within **5–15 km** of the nearest corridor.  \n",
    "- A few outliers exceed **25–30 km**, indicating grids where incidents occur far away from ecological corridors.  \n",
    "\n",
    "For modeling, we will retain all values (including zeros) since the absence of incidents itself is informative.\n"
   ]
  },
  {
   "cell_type": "markdown",
   "id": "2bedcfdd",
   "metadata": {},
   "source": [
    "\n"
   ]
  },
  {
   "cell_type": "markdown",
   "id": "d33a7bab",
   "metadata": {},
   "source": [
    "#### Distribution of Wildlife-related Variables\n"
   ]
  },
  {
   "cell_type": "code",
   "execution_count": 318,
   "id": "5fd4a6c5",
   "metadata": {},
   "outputs": [
    {
     "data": {
      "image/png": "[encoded data removed]",
      "text/plain": [
       "<Figure size 640x480 with 1 Axes>"
      ]
     },
     "metadata": {},
     "output_type": "display_data"
    },
    {
     "data": {
      "image/png": "[encoded data removed]",
      "text/plain": [
       "<Figure size 640x480 with 1 Axes>"
      ]
     },
     "metadata": {},
     "output_type": "display_data"
    }
   ],
   "source": [
    "# wild_boar_count\n",
    "sns.histplot(data=data, x='wild_boar_count', bins=30, edgecolor='black')\n",
    "plt.title('Distribution of Wild Boar Count')\n",
    "plt.grid(alpha=0.3)\n",
    "plt.show()\n",
    "\n",
    "# roe_deer_count\n",
    "sns.histplot(data=data, x='roe_deer_count', bins=30, edgecolor='black')\n",
    "plt.title('Distribution of Roe Deer Count')\n",
    "plt.grid(alpha=0.3)\n",
    "plt.show()\n"
   ]
  },
  {
   "cell_type": "markdown",
   "id": "e5be5459",
   "metadata": {},
   "source": [
    "`wild_boar_count` is highly right-skewed.  \n",
    "Most grids have low estimated presence (below 20),  \n",
    "but a few grids show very high values (above 100).\n",
    "\n",
    "`roe_deer_count` also shows a right-skewed pattern,  \n",
    "with many grids concentrated at low values (<50)  \n",
    "but some extreme outliers reaching above 500."
   ]
  },
  {
   "cell_type": "markdown",
   "id": "a91df16f",
   "metadata": {},
   "source": [
    "#### Distribution of Road-related Variables\n"
   ]
  },
  {
   "cell_type": "code",
   "execution_count": 319,
   "id": "255cc66a",
   "metadata": {},
   "outputs": [
    {
     "data": {
      "image/png": "[encoded data removed]",
      "text/plain": [
       "<Figure size 640x480 with 1 Axes>"
      ]
     },
     "metadata": {},
     "output_type": "display_data"
    },
    {
     "data": {
      "image/png": "[encoded data removed]",
      "text/plain": [
       "<Figure size 640x480 with 1 Axes>"
      ]
     },
     "metadata": {},
     "output_type": "display_data"
    }
   ],
   "source": [
    "# national_road_count\n",
    "ax = sns.countplot(data=data, x='national_road_count', edgecolor='black')\n",
    "for con in ax.containers:\n",
    "    ax.bar_label(con)\n",
    "plt.title('Distribution of National Road Count')\n",
    "plt.grid(alpha=0.3)\n",
    "plt.show()\n",
    "\n",
    "# highway_road_count\n",
    "ax = sns.countplot(data=data, x='highway_road_count', edgecolor='black')\n",
    "for con in ax.containers:\n",
    "    ax.bar_label(con)\n",
    "plt.title('Distribution of Highway Road Count')\n",
    "plt.grid(alpha=0.3)\n",
    "plt.show()\n"
   ]
  },
  {
   "cell_type": "markdown",
   "id": "40c2459b",
   "metadata": {},
   "source": [
    "`national_road_count` is mostly **0–2**,  \n",
    "indicating that most grids contain few or no national roads.  \n",
    "Only a handful of grids have 3 or more.  \n",
    "\n",
    "`highway_road_count` is even more concentrated at **0**,  \n",
    "with only a small number of grids containing 1–2 highways."
   ]
  },
  {
   "cell_type": "markdown",
   "id": "456a1cc5",
   "metadata": {},
   "source": [
    "### Relationship between Road Types and Roadkill Level "
   ]
  },
  {
   "cell_type": "code",
   "execution_count": 320,
   "id": "17b200fe",
   "metadata": {},
   "outputs": [
    {
     "data": {
      "image/png": "[encoded data removed]",
      "text/plain": [
       "<Figure size 1200x500 with 2 Axes>"
      ]
     },
     "metadata": {},
     "output_type": "display_data"
    }
   ],
   "source": [
    "fig, ax = plt.subplots(1, 2, figsize=(12, 5), sharey=True)\n",
    "\n",
    "# National road count\n",
    "sns.boxplot(data=data, x='roadkill_level', y='national_road_count', ax=ax[0])\n",
    "ax[0].set_title('National Road Count vs Roadkill Level')\n",
    "ax[0].set_xlabel('Roadkill Level (0=none, 1=low, 2=high)')\n",
    "ax[0].set_ylabel('National Road Count')\n",
    "\n",
    "# Highway road count\n",
    "sns.boxplot(data=data, x='roadkill_level', y='highway_road_count', ax=ax[1])\n",
    "ax[1].set_title('Highway Road Count vs Roadkill Level')\n",
    "ax[1].set_xlabel('Roadkill Level (0=none, 1=low, 2=high)')\n",
    "ax[1].set_ylabel('Highway Road Count')\n",
    "\n",
    "plt.tight_layout()\n",
    "plt.show()\n"
   ]
  },
  {
   "cell_type": "markdown",
   "id": "8eb63a6e",
   "metadata": {},
   "source": [
    "- **National Road Count:**  \n",
    "  Grids with higher roadkill levels (1–2) tend to have slightly more national roads than grids with no incidents.  \n",
    "  This indicates that national roads may contribute more strongly to roadkill risk compared to local roads.  \n",
    "\n",
    "- **Highway Road Count:**  \n",
    "  Highways are sparse across the region, and their counts remain close to zero in all risk levels.  \n",
    "  While present in only a few grids, highways do not show a strong differentiating effect on roadkill risk in this dataset.  \n"
   ]
  },
  {
   "cell_type": "markdown",
   "id": "9fb2744c",
   "metadata": {},
   "source": [
    "## 2. Feature Engineering\n",
    "\n",
    "Since actual speed limit data is not available,  \n",
    "we create a proxy variable (`speed_proxy`) based on road types.  \n",
    "\n",
    "- Highways = fastest roads → weight 3  \n",
    "- National/provincial roads = medium speed → weight 2  \n",
    "- Only ordinary roads present = slowest → weight 1  \n",
    "\n",
    "This `speed_proxy` approximates the relative traffic speed environment  \n",
    "of each grid cell, serving as a proxy for speed limits.\n"
   ]
  },
  {
   "cell_type": "code",
   "execution_count": 321,
   "id": "68f514de",
   "metadata": {},
   "outputs": [],
   "source": [
    "# Create speed_proxy as weighted score\n",
    "data['speed_proxy'] = (\n",
    "    3 * data['highway_road_count'] +\n",
    "    2 * data['national_road_count']\n",
    ")\n",
    "\n",
    "# If both counts are zero → only ordinary road present\n",
    "data.loc[(data['highway_road_count']==0) & (data['national_road_count']==0), 'speed_proxy'] = 1\n"
   ]
  },
  {
   "cell_type": "code",
   "execution_count": 322,
   "id": "7a22c0ca",
   "metadata": {},
   "outputs": [
    {
     "data": {
      "text/html": [
       "<div>\n",
       "<style scoped>\n",
       "    .dataframe tbody tr th:only-of-type {\n",
       "        vertical-align: middle;\n",
       "    }\n",
       "\n",
       "    .dataframe tbody tr th {\n",
       "        vertical-align: top;\n",
       "    }\n",
       "\n",
       "    .dataframe thead th {\n",
       "        text-align: right;\n",
       "    }\n",
       "</style>\n",
       "<table border=\"1\" class=\"dataframe\">\n",
       "  <thead>\n",
       "    <tr style=\"text-align: right;\">\n",
       "      <th></th>\n",
       "      <th>grid_id</th>\n",
       "      <th>roadkill_count</th>\n",
       "      <th>national_highway_rk</th>\n",
       "      <th>white_rk</th>\n",
       "      <th>corridor_count</th>\n",
       "      <th>min_dist_to_corridor</th>\n",
       "      <th>is_hongcheon</th>\n",
       "      <th>wild_boar_count</th>\n",
       "      <th>roe_deer_count</th>\n",
       "      <th>white_road_grade</th>\n",
       "      <th>national_road_count</th>\n",
       "      <th>highway_road_count</th>\n",
       "      <th>roadkill_level</th>\n",
       "      <th>speed_proxy</th>\n",
       "    </tr>\n",
       "  </thead>\n",
       "  <tbody>\n",
       "    <tr>\n",
       "      <th>0</th>\n",
       "      <td>grid_25</td>\n",
       "      <td>0</td>\n",
       "      <td>0</td>\n",
       "      <td>0</td>\n",
       "      <td>0</td>\n",
       "      <td>0.000000</td>\n",
       "      <td>0</td>\n",
       "      <td>1.540276</td>\n",
       "      <td>0.000000</td>\n",
       "      <td>1</td>\n",
       "      <td>1</td>\n",
       "      <td>0</td>\n",
       "      <td>0</td>\n",
       "      <td>2</td>\n",
       "    </tr>\n",
       "    <tr>\n",
       "      <th>1</th>\n",
       "      <td>grid_26</td>\n",
       "      <td>0</td>\n",
       "      <td>0</td>\n",
       "      <td>0</td>\n",
       "      <td>0</td>\n",
       "      <td>0.000000</td>\n",
       "      <td>0</td>\n",
       "      <td>1.540276</td>\n",
       "      <td>0.000000</td>\n",
       "      <td>0</td>\n",
       "      <td>0</td>\n",
       "      <td>0</td>\n",
       "      <td>0</td>\n",
       "      <td>1</td>\n",
       "    </tr>\n",
       "    <tr>\n",
       "      <th>2</th>\n",
       "      <td>grid_55</td>\n",
       "      <td>0</td>\n",
       "      <td>0</td>\n",
       "      <td>0</td>\n",
       "      <td>0</td>\n",
       "      <td>0.000000</td>\n",
       "      <td>0</td>\n",
       "      <td>1.540276</td>\n",
       "      <td>0.000000</td>\n",
       "      <td>1</td>\n",
       "      <td>0</td>\n",
       "      <td>0</td>\n",
       "      <td>0</td>\n",
       "      <td>1</td>\n",
       "    </tr>\n",
       "    <tr>\n",
       "      <th>3</th>\n",
       "      <td>grid_56</td>\n",
       "      <td>0</td>\n",
       "      <td>0</td>\n",
       "      <td>0</td>\n",
       "      <td>0</td>\n",
       "      <td>0.000000</td>\n",
       "      <td>0</td>\n",
       "      <td>1.540276</td>\n",
       "      <td>0.000000</td>\n",
       "      <td>1</td>\n",
       "      <td>0</td>\n",
       "      <td>0</td>\n",
       "      <td>0</td>\n",
       "      <td>1</td>\n",
       "    </tr>\n",
       "    <tr>\n",
       "      <th>4</th>\n",
       "      <td>grid_57</td>\n",
       "      <td>0</td>\n",
       "      <td>0</td>\n",
       "      <td>0</td>\n",
       "      <td>0</td>\n",
       "      <td>0.000000</td>\n",
       "      <td>0</td>\n",
       "      <td>1.540276</td>\n",
       "      <td>0.000000</td>\n",
       "      <td>2</td>\n",
       "      <td>3</td>\n",
       "      <td>0</td>\n",
       "      <td>0</td>\n",
       "      <td>6</td>\n",
       "    </tr>\n",
       "    <tr>\n",
       "      <th>...</th>\n",
       "      <td>...</td>\n",
       "      <td>...</td>\n",
       "      <td>...</td>\n",
       "      <td>...</td>\n",
       "      <td>...</td>\n",
       "      <td>...</td>\n",
       "      <td>...</td>\n",
       "      <td>...</td>\n",
       "      <td>...</td>\n",
       "      <td>...</td>\n",
       "      <td>...</td>\n",
       "      <td>...</td>\n",
       "      <td>...</td>\n",
       "      <td>...</td>\n",
       "    </tr>\n",
       "    <tr>\n",
       "      <th>779</th>\n",
       "      <td>grid_1413</td>\n",
       "      <td>0</td>\n",
       "      <td>0</td>\n",
       "      <td>0</td>\n",
       "      <td>0</td>\n",
       "      <td>0.000000</td>\n",
       "      <td>0</td>\n",
       "      <td>0.000000</td>\n",
       "      <td>7.052573</td>\n",
       "      <td>2</td>\n",
       "      <td>1</td>\n",
       "      <td>0</td>\n",
       "      <td>0</td>\n",
       "      <td>2</td>\n",
       "    </tr>\n",
       "    <tr>\n",
       "      <th>780</th>\n",
       "      <td>grid_1414</td>\n",
       "      <td>2</td>\n",
       "      <td>0</td>\n",
       "      <td>2</td>\n",
       "      <td>0</td>\n",
       "      <td>8780.044607</td>\n",
       "      <td>0</td>\n",
       "      <td>0.000000</td>\n",
       "      <td>7.052573</td>\n",
       "      <td>2</td>\n",
       "      <td>1</td>\n",
       "      <td>0</td>\n",
       "      <td>1</td>\n",
       "      <td>2</td>\n",
       "    </tr>\n",
       "    <tr>\n",
       "      <th>781</th>\n",
       "      <td>grid_1443</td>\n",
       "      <td>0</td>\n",
       "      <td>0</td>\n",
       "      <td>0</td>\n",
       "      <td>0</td>\n",
       "      <td>0.000000</td>\n",
       "      <td>0</td>\n",
       "      <td>0.000000</td>\n",
       "      <td>7.052573</td>\n",
       "      <td>3</td>\n",
       "      <td>1</td>\n",
       "      <td>0</td>\n",
       "      <td>0</td>\n",
       "      <td>2</td>\n",
       "    </tr>\n",
       "    <tr>\n",
       "      <th>782</th>\n",
       "      <td>grid_1444</td>\n",
       "      <td>0</td>\n",
       "      <td>0</td>\n",
       "      <td>0</td>\n",
       "      <td>0</td>\n",
       "      <td>0.000000</td>\n",
       "      <td>0</td>\n",
       "      <td>0.000000</td>\n",
       "      <td>7.052573</td>\n",
       "      <td>1</td>\n",
       "      <td>0</td>\n",
       "      <td>0</td>\n",
       "      <td>0</td>\n",
       "      <td>1</td>\n",
       "    </tr>\n",
       "    <tr>\n",
       "      <th>783</th>\n",
       "      <td>grid_1445</td>\n",
       "      <td>0</td>\n",
       "      <td>0</td>\n",
       "      <td>0</td>\n",
       "      <td>0</td>\n",
       "      <td>0.000000</td>\n",
       "      <td>0</td>\n",
       "      <td>0.000000</td>\n",
       "      <td>7.052573</td>\n",
       "      <td>1</td>\n",
       "      <td>0</td>\n",
       "      <td>0</td>\n",
       "      <td>0</td>\n",
       "      <td>1</td>\n",
       "    </tr>\n",
       "  </tbody>\n",
       "</table>\n",
       "<p>784 rows × 14 columns</p>\n",
       "</div>"
      ],
      "text/plain": [
       "       grid_id  roadkill_count  national_highway_rk  white_rk  corridor_count  \\\n",
       "0      grid_25               0                    0         0               0   \n",
       "1      grid_26               0                    0         0               0   \n",
       "2      grid_55               0                    0         0               0   \n",
       "3      grid_56               0                    0         0               0   \n",
       "4      grid_57               0                    0         0               0   \n",
       "..         ...             ...                  ...       ...             ...   \n",
       "779  grid_1413               0                    0         0               0   \n",
       "780  grid_1414               2                    0         2               0   \n",
       "781  grid_1443               0                    0         0               0   \n",
       "782  grid_1444               0                    0         0               0   \n",
       "783  grid_1445               0                    0         0               0   \n",
       "\n",
       "     min_dist_to_corridor  is_hongcheon  wild_boar_count  roe_deer_count  \\\n",
       "0                0.000000             0         1.540276        0.000000   \n",
       "1                0.000000             0         1.540276        0.000000   \n",
       "2                0.000000             0         1.540276        0.000000   \n",
       "3                0.000000             0         1.540276        0.000000   \n",
       "4                0.000000             0         1.540276        0.000000   \n",
       "..                    ...           ...              ...             ...   \n",
       "779              0.000000             0         0.000000        7.052573   \n",
       "780           8780.044607             0         0.000000        7.052573   \n",
       "781              0.000000             0         0.000000        7.052573   \n",
       "782              0.000000             0         0.000000        7.052573   \n",
       "783              0.000000             0         0.000000        7.052573   \n",
       "\n",
       "     white_road_grade  national_road_count  highway_road_count  \\\n",
       "0                   1                    1                   0   \n",
       "1                   0                    0                   0   \n",
       "2                   1                    0                   0   \n",
       "3                   1                    0                   0   \n",
       "4                   2                    3                   0   \n",
       "..                ...                  ...                 ...   \n",
       "779                 2                    1                   0   \n",
       "780                 2                    1                   0   \n",
       "781                 3                    1                   0   \n",
       "782                 1                    0                   0   \n",
       "783                 1                    0                   0   \n",
       "\n",
       "     roadkill_level  speed_proxy  \n",
       "0                 0            2  \n",
       "1                 0            1  \n",
       "2                 0            1  \n",
       "3                 0            1  \n",
       "4                 0            6  \n",
       "..              ...          ...  \n",
       "779               0            2  \n",
       "780               1            2  \n",
       "781               0            2  \n",
       "782               0            1  \n",
       "783               0            1  \n",
       "\n",
       "[784 rows x 14 columns]"
      ]
     },
     "execution_count": 322,
     "metadata": {},
     "output_type": "execute_result"
    }
   ],
   "source": [
    "data"
   ]
  },
  {
   "cell_type": "markdown",
   "id": "fe9c273c",
   "metadata": {},
   "source": [
    "### Distribution of the New Variable: **speed_proxy**\n"
   ]
  },
  {
   "cell_type": "code",
   "execution_count": 323,
   "id": "0c750033",
   "metadata": {},
   "outputs": [
    {
     "data": {
      "text/plain": [
       "speed_proxy\n",
       "1     234\n",
       "2     276\n",
       "3      16\n",
       "4     134\n",
       "5      42\n",
       "6      27\n",
       "7      42\n",
       "8       4\n",
       "9       7\n",
       "10      2\n",
       "Name: count, dtype: int64"
      ]
     },
     "execution_count": 323,
     "metadata": {},
     "output_type": "execute_result"
    }
   ],
   "source": [
    "data['speed_proxy'].value_counts().sort_index()"
   ]
  },
  {
   "cell_type": "markdown",
   "id": "4b7d3036",
   "metadata": {},
   "source": [
    "Most grids have a low speed_proxy (1–2),\n",
    "indicating areas with no highways or only national/provincial roads.\n",
    "A smaller number of grids fall in the mid-range (4–7),\n",
    "while only a handful reach very high values (8–10),\n",
    "reflecting strong highway dominance."
   ]
  },
  {
   "cell_type": "markdown",
   "id": "4d410f7d",
   "metadata": {},
   "source": [
    "### Relationship between `speed_proxy` and `roadkill_level`"
   ]
  },
  {
   "cell_type": "code",
   "execution_count": 324,
   "id": "07d18633",
   "metadata": {},
   "outputs": [
    {
     "data": {
      "image/png": "[encoded data removed]",
      "text/plain": [
       "<Figure size 640x480 with 1 Axes>"
      ]
     },
     "metadata": {},
     "output_type": "display_data"
    }
   ],
   "source": [
    "sns.boxplot(data=data, x='roadkill_level', y='speed_proxy')\n",
    "plt.title('Speed Proxy vs Roadkill Level')\n",
    "plt.xlabel('Roadkill Level (0=none, 1=low, 2=high)')\n",
    "plt.ylabel('Speed Proxy')\n",
    "plt.grid(alpha=0.3)\n",
    "plt.show()\n"
   ]
  },
  {
   "cell_type": "markdown",
   "id": "ea37da9a",
   "metadata": {},
   "source": [
    "The boxplot shows a clear upward trend:  \n",
    "- **Level 0 (no incidents):** Concentrated at low `speed_proxy` values (mostly 1–2).  \n",
    "- **Level 1 (low incidents):** Wider spread, with many grids in the mid-range (3–6).  \n",
    "- **Level 2 (high incidents):** Higher median and broader distribution, reaching the maximum values.  \n",
    "\n",
    "This suggests that **faster road environments (proxied by more highways and national roads)**  \n",
    "are associated with a greater likelihood of roadkill incidents."
   ]
  },
  {
   "cell_type": "markdown",
   "id": "b6ebd51f",
   "metadata": {},
   "source": [
    "## 3. Modeling "
   ]
  },
  {
   "cell_type": "markdown",
   "id": "3647b86f",
   "metadata": {},
   "source": [
    "### Imports for modeling"
   ]
  },
  {
   "cell_type": "code",
   "execution_count": 325,
   "id": "5fc9dfb8",
   "metadata": {},
   "outputs": [],
   "source": [
    "from sklearn.linear_model import SGDClassifier\n",
    "from sklearn.model_selection import cross_validate, train_test_split\n",
    "from sklearn.metrics import accuracy_score\n",
    "from sklearn.metrics import confusion_matrix, classification_report, accuracy_score, f1_score\n",
    "from sklearn.model_selection import train_test_split\n",
    "from sklearn.preprocessing import StandardScaler\n",
    "from sklearn.ensemble import GradientBoostingClassifier\n",
    "import tensorflow as tf\n",
    "import keras"
   ]
  },
  {
   "cell_type": "code",
   "execution_count": null,
   "id": "e8f0548b",
   "metadata": {},
   "outputs": [],
   "source": []
  },
  {
   "cell_type": "code",
   "execution_count": 326,
   "id": "05d195c3",
   "metadata": {},
   "outputs": [],
   "source": [
    "non_hongcheon = data[data['is_hongcheon'] == 0]\n",
    "hongcheon = data[data['is_hongcheon'] == 1]\n",
    "drop_columns = [\n",
    "    'grid_id', 'roadkill_count', 'national_road_count', 'highway_road_count', 'roadkill_level','is_hongcheon'\n",
    "]\n",
    "X_train_full = non_hongcheon.drop(columns = drop_columns)\n",
    "X_test = hongcheon.drop(columns = drop_columns)\n",
    "y_train_full = non_hongcheon['roadkill_level']\n",
    "y_test = hongcheon['roadkill_level']"
   ]
  },
  {
   "cell_type": "code",
   "execution_count": 327,
   "id": "59f09078",
   "metadata": {},
   "outputs": [
    {
     "data": {
      "text/plain": [
       "((675, 8), (109, 8), (675,), (109,))"
      ]
     },
     "execution_count": 327,
     "metadata": {},
     "output_type": "execute_result"
    }
   ],
   "source": [
    "X_train_full.shape, X_test.shape, y_train_full.shape, y_test.shape"
   ]
  },
  {
   "cell_type": "code",
   "execution_count": 328,
   "id": "b217ec93",
   "metadata": {},
   "outputs": [],
   "source": [
    "X_train, X_val, y_train, y_val = train_test_split(X_train_full, y_train_full, test_size = 0.2, stratify = y_train_full\n",
    ")"
   ]
  },
  {
   "cell_type": "code",
   "execution_count": 329,
   "id": "057fb3a9",
   "metadata": {},
   "outputs": [
    {
     "data": {
      "text/plain": [
       "((540, 8), (109, 8), (540,), (109,))"
      ]
     },
     "execution_count": 329,
     "metadata": {},
     "output_type": "execute_result"
    }
   ],
   "source": [
    "X_train.shape, X_test.shape, y_train.shape, y_test.shape"
   ]
  },
  {
   "cell_type": "markdown",
   "id": "5681e8d4",
   "metadata": {},
   "source": [
    "### Feature Scaling\n",
    "We applied **standardization (StandardScaler)** to continuous features  \n",
    "(`min_dist_to_corridor`, `wild_boar_count`, `roe_deer_count`)  \n",
    "to ensure all variables are on a comparable scale.  \n",
    "\n",
    "Scaling was fit on the **training set only**, and the same transformation  \n",
    "was applied to validation and test sets to avoid data leakage.\n"
   ]
  },
  {
   "cell_type": "code",
   "execution_count": 330,
   "id": "1a08ccac",
   "metadata": {},
   "outputs": [],
   "source": [
    "scale_cols = ['min_dist_to_corridor', 'wild_boar_count', 'roe_deer_count']\n",
    "\n",
    "scaler = StandardScaler()\n",
    "X_train[scale_cols] = scaler.fit_transform(X_train[scale_cols])\n",
    "X_val[scale_cols] = scaler.transform(X_val[scale_cols])\n",
    "X_test[scale_cols] = scaler.transform(X_test[scale_cols])"
   ]
  },
  {
   "cell_type": "code",
   "execution_count": 331,
   "id": "47a3194b",
   "metadata": {},
   "outputs": [
    {
     "data": {
      "text/plain": [
       "Index(['national_highway_rk', 'white_rk', 'corridor_count',\n",
       "       'min_dist_to_corridor', 'wild_boar_count', 'roe_deer_count',\n",
       "       'white_road_grade', 'speed_proxy'],\n",
       "      dtype='object')"
      ]
     },
     "execution_count": 331,
     "metadata": {},
     "output_type": "execute_result"
    }
   ],
   "source": [
    "X_train.columns"
   ]
  },
  {
   "cell_type": "markdown",
   "id": "c7f6214c",
   "metadata": {},
   "source": [
    "### SGD Modeling"
   ]
  },
  {
   "cell_type": "code",
   "execution_count": 332,
   "id": "5162aa2b",
   "metadata": {},
   "outputs": [
    {
     "name": "stdout",
     "output_type": "stream",
     "text": [
      "Train: 0.9833333333333333\n",
      "\n",
      "Confusion Matrix for train:\n",
      " [[426   0   0]\n",
      " [  5  81   3]\n",
      " [  0   1  24]]\n",
      "\n",
      "Validation: 0.9925925925925926\n",
      "\n",
      "Confusion Matrix for validation:\n",
      " [[106   0   0]\n",
      " [  1  21   0]\n",
      " [  0   0   7]]\n",
      "\n",
      "Train+Val: 0.8251851851851851\n",
      "\n",
      "Confusion Matrix for Train+Validation ==> non_hongcheon:\n",
      " [[525   0   7]\n",
      " [  0   0 111]\n",
      " [  0   0  32]]\n",
      "\n",
      "Test: 0.3944954128440367\n",
      "\n",
      "Confusion Matrix for Test ==> hongcheon:\n",
      " [[35 50  0]\n",
      " [ 2  5 14]\n",
      " [ 0  0  3]]\n"
     ]
    }
   ],
   "source": [
    "sgd = SGDClassifier(loss = 'log_loss')\n",
    "sgd.fit(X = X_train, y = y_train)\n",
    "\n",
    "# prediction\n",
    "train_pred = sgd.predict(X_train)\n",
    "val_pred = sgd.predict(X_val)\n",
    "full_pred = sgd.fit(X_train_full, y_train_full).predict(X_train_full)\n",
    "test_pred = sgd.predict(X_test)\n",
    "\n",
    "# calculate accuracy \n",
    "acc_train = accuracy_score(y_train, train_pred)\n",
    "acc_val = accuracy_score(y_val, val_pred)\n",
    "f1_val = f1_score(y_val, val_pred, average = 'macro')\n",
    "acc_full = accuracy_score(y_train_full, full_pred)\n",
    "acc_test = accuracy_score(y_test, test_pred)\n",
    "f1_test = f1_score(y_test, test_pred, average = 'macro')\n",
    "\n",
    "# Confusion matrix calculation\n",
    "\n",
    "cm_train = confusion_matrix(y_train, train_pred)\n",
    "cm_val = confusion_matrix(y_val, val_pred)\n",
    "cm_full = confusion_matrix(y_train_full, full_pred)\n",
    "cm_test = confusion_matrix(y_test, test_pred)\n",
    "\n",
    "# Report for Train\n",
    "print(\"Train:\", acc_train)\n",
    "print(\"\\nConfusion Matrix for train:\\n\", cm_train)\n",
    "# print(\"\\nClassification Report for train:\\n\", classification_report(y_train, train_pred))\n",
    "\n",
    "\n",
    "# Report for Validation\n",
    "print(\"\\nValidation:\", acc_val)\n",
    "print(\"\\nConfusion Matrix for validation:\\n\", cm_val)\n",
    "# print(\"\\nClassification Report for validation:\\n\", classification_report(y_val, val_pred))\n",
    "\n",
    "# Report for Train+Validation ==> non hongcheon \n",
    "\n",
    "print(\"\\nTrain+Val:\", acc_full)\n",
    "print(\"\\nConfusion Matrix for Train+Validation ==> non_hongcheon:\\n\", cm_full)\n",
    "# print(\"\\nClassification Report for validation:\\n\", classification_report(y_train_full, full_pred))\n",
    "\n",
    "\n",
    "# Report for Test ==> Hongcheon\n",
    "print(\"\\nTest:\", acc_test)\n",
    "print(\"\\nConfusion Matrix for Test ==> hongcheon:\\n\", cm_test)\n",
    "# print(\"\\nClassification Report for validation:\\n\", classification_report(y_test, test_pred))\n",
    "\n",
    "\n"
   ]
  },
  {
   "cell_type": "code",
   "execution_count": 333,
   "id": "5df3afde",
   "metadata": {},
   "outputs": [],
   "source": [
    "results = []\n",
    "results.append({\n",
    "    'Model': \"SGD\",\n",
    "    'Train Acc': acc_train,\n",
    "    'Val Acc': acc_val,\n",
    "    'Macro-F1 for Val':f1_val,\n",
    "    'Train + Val Acc': acc_full,\n",
    "})"
   ]
  },
  {
   "cell_type": "code",
   "execution_count": 334,
   "id": "ff145581",
   "metadata": {},
   "outputs": [
    {
     "data": {
      "text/plain": [
       "[{'Model': 'SGD',\n",
       "  'Train Acc': 0.9833333333333333,\n",
       "  'Val Acc': 0.9925925925925926,\n",
       "  'Macro-F1 for Val': 0.9906831167885869,\n",
       "  'Train + Val Acc': 0.8251851851851851}]"
      ]
     },
     "execution_count": 334,
     "metadata": {},
     "output_type": "execute_result"
    }
   ],
   "source": [
    "results"
   ]
  },
  {
   "cell_type": "markdown",
   "id": "b63b762d",
   "metadata": {},
   "source": [
    "# Gradient Boosting Model"
   ]
  },
  {
   "cell_type": "code",
   "execution_count": 335,
   "id": "3805d8f1",
   "metadata": {},
   "outputs": [
    {
     "name": "stdout",
     "output_type": "stream",
     "text": [
      "Train: 1.0\n",
      "\n",
      "Confusion Matrix for train:\n",
      " [[426   0   0]\n",
      " [  0  89   0]\n",
      " [  0   0  25]]\n",
      "Validation: 0.9925925925925926\n",
      "\n",
      "Confusion Matrix for validation:\n",
      " [[106   0   0]\n",
      " [  0  22   0]\n",
      " [  0   1   6]]\n",
      "Train+Val: 1.0\n",
      "\n",
      "Confusion Matrix for Train+Validation ==> non_hongcheon:\n",
      " [[532   0   0]\n",
      " [  0 111   0]\n",
      " [  0   0  32]]\n"
     ]
    }
   ],
   "source": [
    "gb_clf = GradientBoostingClassifier()\n",
    "gb_clf.fit(X_train, y_train)\n",
    "\n",
    "# predict data\n",
    "train_pred = gb_clf.predict(X_train)\n",
    "val_pred = gb_clf.predict(X_val)\n",
    "full_pred = gb_clf.fit(X_train_full, y_train_full).predict(X_train_full)\n",
    "\n",
    "\n",
    "# calculate accuracy \n",
    "acc_train = accuracy_score(y_train, train_pred)\n",
    "acc_val = accuracy_score(y_val, val_pred)\n",
    "f1_val = f1_score(y_val, val_pred, average = 'macro')\n",
    "acc_full = accuracy_score(y_train_full, full_pred)\n",
    "\n",
    "\n",
    "# Confusion matrix calculation\n",
    "\n",
    "cm_train = confusion_matrix(y_train, train_pred)\n",
    "cm_val = confusion_matrix(y_val, val_pred)\n",
    "cm_full = confusion_matrix(y_train_full, full_pred)\n",
    "\n",
    "\n",
    "# Report for Train\n",
    "print(\"Train:\", acc_train)\n",
    "print(\"\\nConfusion Matrix for train:\\n\", cm_train)\n",
    "# print(\"\\nClassification Report for train:\\n\", classification_report(y_train, train_pred))\n",
    "\n",
    "\n",
    "# Report for Validation\n",
    "print(\"Validation:\", acc_val)\n",
    "print(\"\\nConfusion Matrix for validation:\\n\", cm_val)\n",
    "# print(\"\\nClassification Report for validation:\\n\", classification_report(y_val, val_pred))\n",
    "\n",
    "# Report for Train+Validation ==> non hongcheon \n",
    "\n",
    "print(\"Train+Val:\", acc_full)\n",
    "print(\"\\nConfusion Matrix for Train+Validation ==> non_hongcheon:\\n\", cm_full)\n",
    "# print(\"\\nClassification Report for validation:\\n\", classification_report(y_train_full, full_pred))\n",
    "\n",
    "\n"
   ]
  },
  {
   "cell_type": "code",
   "execution_count": 336,
   "id": "201435a7",
   "metadata": {},
   "outputs": [],
   "source": [
    "results.append({\n",
    "    'Model': \"Gradient Boosting\",\n",
    "    'Train Acc': acc_train,\n",
    "    'Val Acc': acc_val,\n",
    "    'Macro-F1 for Val':f1_val,\n",
    "    'Train + Val Acc': acc_full\n",
    "})"
   ]
  },
  {
   "cell_type": "code",
   "execution_count": 337,
   "id": "706757a4",
   "metadata": {},
   "outputs": [
    {
     "data": {
      "text/plain": [
       "[{'Model': 'SGD',\n",
       "  'Train Acc': 0.9833333333333333,\n",
       "  'Val Acc': 0.9925925925925926,\n",
       "  'Macro-F1 for Val': 0.9906831167885869,\n",
       "  'Train + Val Acc': 0.8251851851851851},\n",
       " {'Model': 'Gradient Boosting',\n",
       "  'Train Acc': 1.0,\n",
       "  'Val Acc': 0.9925925925925926,\n",
       "  'Macro-F1 for Val': 0.9669515669515669,\n",
       "  'Train + Val Acc': 1.0}]"
      ]
     },
     "execution_count": 337,
     "metadata": {},
     "output_type": "execute_result"
    }
   ],
   "source": [
    "results"
   ]
  },
  {
   "cell_type": "code",
   "execution_count": null,
   "id": "fb0aad4b",
   "metadata": {},
   "outputs": [],
   "source": []
  },
  {
   "cell_type": "markdown",
   "id": "05fccdc6",
   "metadata": {},
   "source": [
    "### Neural Network Model (ANN)\n",
    "\n",
    "We build a feed-forward neural network (Artificial Neural Network, ANN)  \n",
    "with two hidden layers to classify roadkill risk levels (0 = none, 1 = low, 2 = high).\n"
   ]
  },
  {
   "cell_type": "code",
   "execution_count": 338,
   "id": "99fbf9ba",
   "metadata": {},
   "outputs": [],
   "source": [
    "# Define a sequential neural network model\n",
    "model = keras.Sequential([\n",
    "    \n",
    "     # Input layer: 8 explanatory variables\n",
    "    keras.layers.Input(shape=(8,)),\n",
    "    \n",
    "    # First hidden layer with 16 neurons and ReLU activation\n",
    "    keras.layers.Dense(16, activation='relu'),\n",
    "    \n",
    "    # Second hidden layer with 8 neurons and ReLU activation\n",
    "    keras.layers.Dense(8, activation='relu'),    \n",
    "    \n",
    "     # Output layer with 3 neurons (for 3 classes) and softmax activation\n",
    "    keras.layers.Dense(3, activation='softmax')  \n",
    "])\n"
   ]
  },
  {
   "cell_type": "code",
   "execution_count": 339,
   "id": "b976bdb7",
   "metadata": {},
   "outputs": [
    {
     "data": {
      "text/html": [
       "<pre style=\"white-space:pre;overflow-x:auto;line-height:normal;font-family:Menlo,'DejaVu Sans Mono',consolas,'Courier New',monospace\"><span style=\"font-weight: bold\">Model: \"sequential_7\"</span>\n",
       "</pre>\n"
      ],
      "text/plain": [
       "\u001b[1mModel: \"sequential_7\"\u001b[0m\n"
      ]
     },
     "metadata": {},
     "output_type": "display_data"
    },
    {
     "data": {
      "text/html": [
       "<pre style=\"white-space:pre;overflow-x:auto;line-height:normal;font-family:Menlo,'DejaVu Sans Mono',consolas,'Courier New',monospace\">┏━━━━━━━━━━━━━━━━━━━━━━━━━━━━━━━━━┳━━━━━━━━━━━━━━━━━━━━━━━━┳━━━━━━━━━━━━━━━┓\n",
       "┃<span style=\"font-weight: bold\"> Layer (type)                    </span>┃<span style=\"font-weight: bold\"> Output Shape           </span>┃<span style=\"font-weight: bold\">       Param # </span>┃\n",
       "┡━━━━━━━━━━━━━━━━━━━━━━━━━━━━━━━━━╇━━━━━━━━━━━━━━━━━━━━━━━━╇━━━━━━━━━━━━━━━┩\n",
       "│ dense_19 (<span style=\"color: #0087ff; text-decoration-color: #0087ff\">Dense</span>)                │ (<span style=\"color: #00d7ff; text-decoration-color: #00d7ff\">None</span>, <span style=\"color: #00af00; text-decoration-color: #00af00\">16</span>)             │           <span style=\"color: #00af00; text-decoration-color: #00af00\">144</span> │\n",
       "├─────────────────────────────────┼────────────────────────┼───────────────┤\n",
       "│ dense_20 (<span style=\"color: #0087ff; text-decoration-color: #0087ff\">Dense</span>)                │ (<span style=\"color: #00d7ff; text-decoration-color: #00d7ff\">None</span>, <span style=\"color: #00af00; text-decoration-color: #00af00\">8</span>)              │           <span style=\"color: #00af00; text-decoration-color: #00af00\">136</span> │\n",
       "├─────────────────────────────────┼────────────────────────┼───────────────┤\n",
       "│ dense_21 (<span style=\"color: #0087ff; text-decoration-color: #0087ff\">Dense</span>)                │ (<span style=\"color: #00d7ff; text-decoration-color: #00d7ff\">None</span>, <span style=\"color: #00af00; text-decoration-color: #00af00\">3</span>)              │            <span style=\"color: #00af00; text-decoration-color: #00af00\">27</span> │\n",
       "└─────────────────────────────────┴────────────────────────┴───────────────┘\n",
       "</pre>\n"
      ],
      "text/plain": [
       "┏━━━━━━━━━━━━━━━━━━━━━━━━━━━━━━━━━┳━━━━━━━━━━━━━━━━━━━━━━━━┳━━━━━━━━━━━━━━━┓\n",
       "┃\u001b[1m \u001b[0m\u001b[1mLayer (type)                   \u001b[0m\u001b[1m \u001b[0m┃\u001b[1m \u001b[0m\u001b[1mOutput Shape          \u001b[0m\u001b[1m \u001b[0m┃\u001b[1m \u001b[0m\u001b[1m      Param #\u001b[0m\u001b[1m \u001b[0m┃\n",
       "┡━━━━━━━━━━━━━━━━━━━━━━━━━━━━━━━━━╇━━━━━━━━━━━━━━━━━━━━━━━━╇━━━━━━━━━━━━━━━┩\n",
       "│ dense_19 (\u001b[38;5;33mDense\u001b[0m)                │ (\u001b[38;5;45mNone\u001b[0m, \u001b[38;5;34m16\u001b[0m)             │           \u001b[38;5;34m144\u001b[0m │\n",
       "├─────────────────────────────────┼────────────────────────┼───────────────┤\n",
       "│ dense_20 (\u001b[38;5;33mDense\u001b[0m)                │ (\u001b[38;5;45mNone\u001b[0m, \u001b[38;5;34m8\u001b[0m)              │           \u001b[38;5;34m136\u001b[0m │\n",
       "├─────────────────────────────────┼────────────────────────┼───────────────┤\n",
       "│ dense_21 (\u001b[38;5;33mDense\u001b[0m)                │ (\u001b[38;5;45mNone\u001b[0m, \u001b[38;5;34m3\u001b[0m)              │            \u001b[38;5;34m27\u001b[0m │\n",
       "└─────────────────────────────────┴────────────────────────┴───────────────┘\n"
      ]
     },
     "metadata": {},
     "output_type": "display_data"
    },
    {
     "data": {
      "text/html": [
       "<pre style=\"white-space:pre;overflow-x:auto;line-height:normal;font-family:Menlo,'DejaVu Sans Mono',consolas,'Courier New',monospace\"><span style=\"font-weight: bold\"> Total params: </span><span style=\"color: #00af00; text-decoration-color: #00af00\">307</span> (1.20 KB)\n",
       "</pre>\n"
      ],
      "text/plain": [
       "\u001b[1m Total params: \u001b[0m\u001b[38;5;34m307\u001b[0m (1.20 KB)\n"
      ]
     },
     "metadata": {},
     "output_type": "display_data"
    },
    {
     "data": {
      "text/html": [
       "<pre style=\"white-space:pre;overflow-x:auto;line-height:normal;font-family:Menlo,'DejaVu Sans Mono',consolas,'Courier New',monospace\"><span style=\"font-weight: bold\"> Trainable params: </span><span style=\"color: #00af00; text-decoration-color: #00af00\">307</span> (1.20 KB)\n",
       "</pre>\n"
      ],
      "text/plain": [
       "\u001b[1m Trainable params: \u001b[0m\u001b[38;5;34m307\u001b[0m (1.20 KB)\n"
      ]
     },
     "metadata": {},
     "output_type": "display_data"
    },
    {
     "data": {
      "text/html": [
       "<pre style=\"white-space:pre;overflow-x:auto;line-height:normal;font-family:Menlo,'DejaVu Sans Mono',consolas,'Courier New',monospace\"><span style=\"font-weight: bold\"> Non-trainable params: </span><span style=\"color: #00af00; text-decoration-color: #00af00\">0</span> (0.00 B)\n",
       "</pre>\n"
      ],
      "text/plain": [
       "\u001b[1m Non-trainable params: \u001b[0m\u001b[38;5;34m0\u001b[0m (0.00 B)\n"
      ]
     },
     "metadata": {},
     "output_type": "display_data"
    }
   ],
   "source": [
    "model.summary()"
   ]
  },
  {
   "cell_type": "code",
   "execution_count": 340,
   "id": "23bf49cc",
   "metadata": {},
   "outputs": [
    {
     "data": {
      "text/plain": [
       "<keras.src.callbacks.history.History at 0x316dd0e50>"
      ]
     },
     "execution_count": 340,
     "metadata": {},
     "output_type": "execute_result"
    }
   ],
   "source": [
    "\n",
    "# model compile\n",
    "model.compile(optimizer=keras.optimizers.SGD(),\n",
    "              loss=keras.losses.sparse_categorical_crossentropy,\n",
    "              metrics=[keras.metrics.sparse_categorical_accuracy])\n",
    "# Train the neural network model\n",
    "model.fit(x=X_train, y=y_train, epochs=1_000, verbose=0)"
   ]
  },
  {
   "cell_type": "code",
   "execution_count": 341,
   "id": "52e6b72c",
   "metadata": {},
   "outputs": [
    {
     "name": "stdout",
     "output_type": "stream",
     "text": [
      "\u001b[1m17/17\u001b[0m \u001b[32m━━━━━━━━━━━━━━━━━━━━\u001b[0m\u001b[37m\u001b[0m \u001b[1m0s\u001b[0m 2ms/step \n",
      "\u001b[1m5/5\u001b[0m \u001b[32m━━━━━━━━━━━━━━━━━━━━\u001b[0m\u001b[37m\u001b[0m \u001b[1m0s\u001b[0m 610us/step\n",
      "Train: 1.0\n",
      "\n",
      "Confusion Matrix for train:\n",
      " [[426   0   0]\n",
      " [  0  89   0]\n",
      " [  0   0  25]]\n",
      "Train: 0.9925925925925926\n",
      "\n",
      "Confusion Matrix for train:\n",
      " [[106   0   0]\n",
      " [  0  22   0]\n",
      " [  0   1   6]]\n"
     ]
    }
   ],
   "source": [
    "# Prediction\n",
    "train_pred = model.predict(X_train).argmax(axis = 1)\n",
    "val_pred = model.predict(X_val).argmax(axis = 1)\n",
    "\n",
    "# Accuracy and F1\n",
    "acc_train = accuracy_score(y_train, train_pred)\n",
    "f1_val = f1_score(y_val, val_pred, average = 'macro')\n",
    "\n",
    "# Confusion matrix Calculation\n",
    "cm_train = confusion_matrix(y_train, train_pred)\n",
    "cm_val = confusion_matrix(y_val,val_pred)\n",
    "\n",
    "# Report for Train\n",
    "print(\"Train:\", acc_train)\n",
    "print(\"\\nConfusion Matrix for train:\\n\", cm_train)\n",
    "\n",
    "# Report for Val\n",
    "print(\"Train:\", acc_val)\n",
    "print(\"\\nConfusion Matrix for train:\\n\", cm_val)"
   ]
  },
  {
   "cell_type": "markdown",
   "id": "7f6c8fd3",
   "metadata": {},
   "source": [
    "#### Train final ANN model on full non-Hongcheon dataset"
   ]
  },
  {
   "cell_type": "code",
   "execution_count": 342,
   "id": "193f098c",
   "metadata": {},
   "outputs": [
    {
     "data": {
      "text/plain": [
       "<keras.src.callbacks.history.History at 0x31730c1d0>"
      ]
     },
     "execution_count": 342,
     "metadata": {},
     "output_type": "execute_result"
    }
   ],
   "source": [
    "# Clone the ANN structure (fresh weights)\n",
    "model_full = keras.models.clone_model(model)\n",
    "\n",
    "# Compile with the same optimizer/loss/metrics\n",
    "model_full.compile(\n",
    "    optimizer=keras.optimizers.SGD(),\n",
    "    loss=keras.losses.sparse_categorical_crossentropy,\n",
    "    metrics=[keras.metrics.sparse_categorical_accuracy]\n",
    ")\n",
    "\n",
    "# Fit model on full non-Hongcheon (train + val)\n",
    "model_full.fit(X_train_full, y_train_full, epochs=1000, verbose=0)"
   ]
  },
  {
   "cell_type": "code",
   "execution_count": 343,
   "id": "c98d7857",
   "metadata": {},
   "outputs": [
    {
     "name": "stdout",
     "output_type": "stream",
     "text": [
      "\u001b[1m22/22\u001b[0m \u001b[32m━━━━━━━━━━━━━━━━━━━━\u001b[0m\u001b[37m\u001b[0m \u001b[1m0s\u001b[0m 1ms/step  \n",
      "\u001b[1m4/4\u001b[0m \u001b[32m━━━━━━━━━━━━━━━━━━━━\u001b[0m\u001b[37m\u001b[0m \u001b[1m0s\u001b[0m 641us/step\n",
      "Train+Val: 0.7881481481481482\n",
      "\n",
      "Confusion Matrix for Train+Validation ==> non_hongcheon:\n",
      " [[532   0   0]\n",
      " [111   0   0]\n",
      " [ 32   0   0]]\n",
      "Test: 0.3944954128440367\n",
      "\n",
      "Confusion Matrix for Test ==> hongcheon:\n",
      " [[ 0 85  0]\n",
      " [18  3  0]\n",
      " [ 3  0  0]]\n"
     ]
    }
   ],
   "source": [
    "# Predictions\n",
    "full_pred = model_full.predict(X_train_full).argmax(axis = 1)\n",
    "test_pred = model_full.predict(X_test).argmax(axis = 1)\n",
    "\n",
    "# Accuracy and F1\n",
    "acc_full = accuracy_score(y_train_full, full_pred)\n",
    "f1_test = f1_score(y_test, test_pred, average = 'macro')\n",
    "\n",
    "# Confusion matrices\n",
    "cm_full = confusion_matrix(y_train_full, full_pred)\n",
    "cm_test = confusion_matrix(y_test, test_pred)\n",
    "\n",
    "# Report for Train+Validation ==> non hongcheon \n",
    "print(\"Train+Val:\", acc_full)\n",
    "print(\"\\nConfusion Matrix for Train+Validation ==> non_hongcheon:\\n\", cm_full)\n",
    "# print(\"\\nClassification Report for validation:\\n\", classification_report(y_train_full, full_pred))\n",
    "\n",
    "# Report for Test ==> Hongcheon\n",
    "print(\"Test:\", acc_test)\n",
    "print(\"\\nConfusion Matrix for Test ==> hongcheon:\\n\", cm_test)\n",
    "# print(\"\\nClassification Report for validation:\\n\", classification_report(y_test, test_pred))\n",
    "\n"
   ]
  },
  {
   "cell_type": "code",
   "execution_count": 344,
   "id": "5feeba6c",
   "metadata": {
    "scrolled": true
   },
   "outputs": [],
   "source": [
    "# Append ANN results to results list \n",
    "results.append({\n",
    "    'Model': \"ANN SGD\",\n",
    "    'Train Acc': acc_train,\n",
    "    'Val Acc': acc_val,\n",
    "    'Train + Val Acc': acc_full,\n",
    "    'Macro-F1 for Val':f1_val,\n",
    "})"
   ]
  },
  {
   "cell_type": "markdown",
   "id": "44e1561b",
   "metadata": {},
   "source": [
    "### Convert results to DataFrame and save to make a dashboard"
   ]
  },
  {
   "cell_type": "code",
   "execution_count": 345,
   "id": "7a057ae5",
   "metadata": {},
   "outputs": [
    {
     "name": "stdout",
     "output_type": "stream",
     "text": [
      "               Model  Train Acc   Val Acc  Macro-F1 for Val  Train + Val Acc\n",
      "0                SGD   0.983333  0.992593          0.990683         0.825185\n",
      "1  Gradient Boosting   1.000000  0.992593          0.966952         1.000000\n",
      "2            ANN SGD   1.000000  0.992593          0.966952         0.788148\n",
      "Results saved to results_summary.csv\n"
     ]
    }
   ],
   "source": [
    "df_results = pd.DataFrame(results)\n",
    "print(df_results)\n",
    "# Save to CSV (for Tableau Dashboard)\n",
    "df_results.to_csv(\"results_summary.csv\", index=False)\n",
    "print(\"Results saved to results_summary.csv\")"
   ]
  },
  {
   "cell_type": "markdown",
   "id": "c67ffeea",
   "metadata": {},
   "source": [
    "We conclude that Gradient Boosting is the best model."
   ]
  },
  {
   "cell_type": "markdown",
   "id": "e08206fe",
   "metadata": {},
   "source": [
    "## Final Model Evaluation: Gradient Boosting\n",
    "\n",
    "Gradient Boosting was selected as the best-performing model based on non-Hongcheon training and validation results.  \n",
    "The model was retrained on the full non-Hongcheon dataset and then applied to the Hongcheon test set.\n",
    "\n",
    "### Performance on Hongcheon (Test Set)\n"
   ]
  },
  {
   "cell_type": "code",
   "execution_count": 346,
   "id": "a824955a",
   "metadata": {},
   "outputs": [
    {
     "name": "stdout",
     "output_type": "stream",
     "text": [
      "Train+Val Accuracy (non-Hongcheon): 1.0\n",
      "\n",
      "Confusion Matrix (non-Hongcheon):\n",
      " [[532   0   0]\n",
      " [  0 111   0]\n",
      " [  0   0  32]]\n",
      "\n",
      "Test Accuracy (Hongcheon): 0.7889908256880734\n",
      "Macro-F1 (Hongcheon): 0.46027633851468047\n",
      "\n",
      "Confusion Matrix (Hongcheon):\n",
      " [[85  0  0]\n",
      " [21  0  0]\n",
      " [ 2  0  1]]\n",
      "\n",
      "Classification Report (Hongcheon):\n",
      "               precision    recall  f1-score   support\n",
      "\n",
      "           0       0.79      1.00      0.88        85\n",
      "           1       0.00      0.00      0.00        21\n",
      "           2       1.00      0.33      0.50         3\n",
      "\n",
      "    accuracy                           0.79       109\n",
      "   macro avg       0.60      0.44      0.46       109\n",
      "weighted avg       0.64      0.79      0.70       109\n",
      "\n"
     ]
    },
    {
     "name": "stderr",
     "output_type": "stream",
     "text": [
      "/Users/yeji_kim/anaconda3/lib/python3.11/site-packages/sklearn/metrics/_classification.py:1469: UndefinedMetricWarning: Precision and F-score are ill-defined and being set to 0.0 in labels with no predicted samples. Use `zero_division` parameter to control this behavior.\n",
      "  _warn_prf(average, modifier, msg_start, len(result))\n",
      "/Users/yeji_kim/anaconda3/lib/python3.11/site-packages/sklearn/metrics/_classification.py:1469: UndefinedMetricWarning: Precision and F-score are ill-defined and being set to 0.0 in labels with no predicted samples. Use `zero_division` parameter to control this behavior.\n",
      "  _warn_prf(average, modifier, msg_start, len(result))\n",
      "/Users/yeji_kim/anaconda3/lib/python3.11/site-packages/sklearn/metrics/_classification.py:1469: UndefinedMetricWarning: Precision and F-score are ill-defined and being set to 0.0 in labels with no predicted samples. Use `zero_division` parameter to control this behavior.\n",
      "  _warn_prf(average, modifier, msg_start, len(result))\n"
     ]
    }
   ],
   "source": [
    "# Gradient Boosting Model\n",
    "gb_clf_final = GradientBoostingClassifier()\n",
    "\n",
    "# Train on full non-Hongcheon data\n",
    "gb_clf_final.fit(X_train_full, y_train_full)\n",
    "\n",
    "# Predictions\n",
    "full_pred = gb_clf_final.predict(X_train_full)   # Train+Val (non-Hongcheon)\n",
    "test_pred = gb_clf_final.predict(X_test)         # Hongcheon test set\n",
    "\n",
    "# Train+Val metrics\n",
    "acc_full = accuracy_score(y_train_full, full_pred)\n",
    "cm_full = confusion_matrix(y_train_full, full_pred)\n",
    "\n",
    "# Test (Hongcheon) metrics\n",
    "acc_test = accuracy_score(y_test, test_pred)\n",
    "f1_test = f1_score(y_test, test_pred, average='macro')\n",
    "cm_test = confusion_matrix(y_test, test_pred)\n",
    "\n",
    "\n",
    "print(\"Train+Val Accuracy (non-Hongcheon):\", acc_full)\n",
    "print(\"\\nConfusion Matrix (non-Hongcheon):\\n\", cm_full)\n",
    "\n",
    "print(\"\\nTest Accuracy (Hongcheon):\", acc_test)\n",
    "print(\"Macro-F1 (Hongcheon):\", f1_test)\n",
    "print(\"\\nConfusion Matrix (Hongcheon):\\n\", cm_test)\n",
    "\n",
    "# Optional: Detailed classification report\n",
    "print(\"\\nClassification Report (Hongcheon):\\n\", classification_report(y_test, test_pred))\n"
   ]
  },
  {
   "cell_type": "markdown",
   "id": "d130147c",
   "metadata": {},
   "source": [
    "### 📋 Predicted High-Risk Grid IDs\n",
    "\n",
    "The Gradient Boosting model identified the following grid(s) as **level 2 (high risk)** in Hongcheon:\n",
    "\n"
   ]
  },
  {
   "cell_type": "code",
   "execution_count": 347,
   "id": "447bf77e",
   "metadata": {},
   "outputs": [
    {
     "name": "stdout",
     "output_type": "stream",
     "text": [
      "Predicted High-Risk Grids:\n",
      "['grid_364']\n"
     ]
    }
   ],
   "source": [
    "print('Predicted High-Risk Grids:')\n",
    "print(hongcheon.loc[test_pred == 2, 'grid_id'].to_list())"
   ]
  }
 ],
 "metadata": {
  "kernelspec": {
   "display_name": "Python 3 (ipykernel)",
   "language": "python",
   "name": "python3"
  },
  "language_info": {
   "codemirror_mode": {
    "name": "ipython",
    "version": 3
   },
   "file_extension": ".py",
   "mimetype": "text/x-python",
   "name": "python",
   "nbconvert_exporter": "python",
   "pygments_lexer": "ipython3",
   "version": "3.11.5"
  }
 },
 "nbformat": 4,
 "nbformat_minor": 5
}
